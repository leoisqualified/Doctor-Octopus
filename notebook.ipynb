{
 "cells": [
  {
   "cell_type": "code",
   "execution_count": 44,
   "metadata": {},
   "outputs": [],
   "source": [
    "import os\n",
    "import pandas as pd\n",
    "import matplotlib.pyplot as plt\n",
    "import seaborn as sns\n",
    "from sklearn.ensemble import RandomForestClassifier\n",
    "from sklearn.model_selection import train_test_split"
   ]
  },
  {
   "cell_type": "code",
   "execution_count": 45,
   "metadata": {},
   "outputs": [
    {
     "name": "stdout",
     "output_type": "stream",
     "text": [
      "       Disease Fever Cough Fatigue Difficulty Breathing  Age  Gender  \\\n",
      "0    Influenza   Yes    No     Yes                  Yes   19  Female   \n",
      "1  Common Cold    No   Yes     Yes                   No   25  Female   \n",
      "2       Eczema    No   Yes     Yes                   No   25  Female   \n",
      "3       Asthma   Yes   Yes      No                  Yes   25    Male   \n",
      "4       Asthma   Yes   Yes      No                  Yes   25    Male   \n",
      "\n",
      "  Blood Pressure Cholesterol Level Outcome Variable  \n",
      "0            Low            Normal         Positive  \n",
      "1         Normal            Normal         Negative  \n",
      "2         Normal            Normal         Negative  \n",
      "3         Normal            Normal         Positive  \n",
      "4         Normal            Normal         Positive  \n"
     ]
    }
   ],
   "source": [
    "# Define the data path and SEED\n",
    "DATA_PATH =r'C:\\Users\\user\\Downloads\\My-Projects\\Doctor-Octopus'\n",
    "SEED = 120\n",
    "\n",
    "# Read the data\n",
    "data = pd.read_csv(os.path.join(DATA_PATH, 'Disease_symptom_and_patient_profile_dataset.csv'))\n",
    "\n",
    "# Print the head\n",
    "print(data.head())\n"
   ]
  },
  {
   "cell_type": "code",
   "execution_count": 46,
   "metadata": {},
   "outputs": [
    {
     "data": {
      "text/plain": [
       "116"
      ]
     },
     "execution_count": 46,
     "metadata": {},
     "output_type": "execute_result"
    }
   ],
   "source": [
    "# Check the number of unique values\n",
    "data['Disease'].nunique()"
   ]
  },
  {
   "cell_type": "markdown",
   "metadata": {},
   "source": [
    "Looking at the Dataset, We have the feature Outcome Variable which confirms if the suspected disease is true or not. Our task is to build a model that can predict the disease given a person's input. We need to subset our dataset for records that have positive outcomes."
   ]
  },
  {
   "cell_type": "code",
   "execution_count": 47,
   "metadata": {},
   "outputs": [
    {
     "name": "stdout",
     "output_type": "stream",
     "text": [
      "        Disease Fever Cough Fatigue Difficulty Breathing  Age  Gender  \\\n",
      "0     Influenza   Yes    No     Yes                  Yes   19  Female   \n",
      "1        Asthma   Yes   Yes      No                  Yes   25    Male   \n",
      "2        Asthma   Yes   Yes      No                  Yes   25    Male   \n",
      "3        Eczema   Yes    No      No                   No   25  Female   \n",
      "4     Influenza   Yes   Yes     Yes                  Yes   25  Female   \n",
      "5     Influenza   Yes   Yes     Yes                  Yes   25  Female   \n",
      "6        Asthma   Yes    No      No                  Yes   28    Male   \n",
      "7    Depression   Yes   Yes     Yes                  Yes   29    Male   \n",
      "8  Liver Cancer   Yes   Yes     Yes                  Yes   29  Female   \n",
      "9        Stroke   Yes   Yes     Yes                  Yes   29  Female   \n",
      "\n",
      "  Blood Pressure Cholesterol Level Outcome Variable  \n",
      "0            Low            Normal         Positive  \n",
      "1         Normal            Normal         Positive  \n",
      "2         Normal            Normal         Positive  \n",
      "3         Normal            Normal         Positive  \n",
      "4         Normal            Normal         Positive  \n",
      "5         Normal            Normal         Positive  \n",
      "6           High            Normal         Positive  \n",
      "7           High            Normal         Positive  \n",
      "8         Normal            Normal         Positive  \n",
      "9         Normal            Normal         Positive  \n"
     ]
    }
   ],
   "source": [
    "# Subset our data where Outcome Variable == 'Positive'\n",
    "data = data[data['Outcome Variable'] == 'Positive']\n",
    "\n",
    "# Reset the index\n",
    "data.reset_index(drop=True, inplace=True) \n",
    "\n",
    "print(data.head(10))"
   ]
  },
  {
   "cell_type": "markdown",
   "metadata": {},
   "source": [
    " The dataset contains irrelevant features like the Age and Gender, We do not care about the age and the gender of the patient we only want to predict the disease so we will drop these features"
   ]
  },
  {
   "cell_type": "code",
   "execution_count": 48,
   "metadata": {},
   "outputs": [
    {
     "name": "stdout",
     "output_type": "stream",
     "text": [
      "     Disease Fever Cough Fatigue Difficulty Breathing Blood Pressure  \\\n",
      "0  Influenza   Yes    No     Yes                  Yes            Low   \n",
      "1     Asthma   Yes   Yes      No                  Yes         Normal   \n",
      "2     Asthma   Yes   Yes      No                  Yes         Normal   \n",
      "3     Eczema   Yes    No      No                   No         Normal   \n",
      "4  Influenza   Yes   Yes     Yes                  Yes         Normal   \n",
      "\n",
      "  Cholesterol Level Outcome Variable  \n",
      "0            Normal         Positive  \n",
      "1            Normal         Positive  \n",
      "2            Normal         Positive  \n",
      "3            Normal         Positive  \n",
      "4            Normal         Positive  \n"
     ]
    }
   ],
   "source": [
    "# Drop Irrelevant Features\n",
    "data.drop(columns=['Age', 'Gender'], inplace= True)\n",
    "\n",
    "# Check the columns \n",
    "print(data.head())\n"
   ]
  },
  {
   "cell_type": "code",
   "execution_count": 50,
   "metadata": {},
   "outputs": [
    {
     "data": {
      "text/plain": [
       "False"
      ]
     },
     "execution_count": 50,
     "metadata": {},
     "output_type": "execute_result"
    }
   ],
   "source": [
    "# Check Missing Values\n",
    "data.isnull().sum().any()"
   ]
  },
  {
   "cell_type": "code",
   "execution_count": 53,
   "metadata": {},
   "outputs": [
    {
     "data": {
      "text/plain": [
       "True"
      ]
     },
     "execution_count": 53,
     "metadata": {},
     "output_type": "execute_result"
    }
   ],
   "source": [
    "# Check Duplicated Values\n",
    "data.duplicated().any()"
   ]
  },
  {
   "cell_type": "code",
   "execution_count": 54,
   "metadata": {},
   "outputs": [
    {
     "name": "stdout",
     "output_type": "stream",
     "text": [
      "                                          Disease Fever Cough Fatigue  \\\n",
      "2                                          Asthma   Yes   Yes      No   \n",
      "5                                       Influenza   Yes   Yes     Yes   \n",
      "11                                         Asthma   Yes   Yes      No   \n",
      "12                                         Asthma   Yes   Yes      No   \n",
      "17                                     Bronchitis   Yes   Yes     Yes   \n",
      "23                                      Influenza   Yes   Yes     Yes   \n",
      "30                                         Asthma   Yes   Yes      No   \n",
      "31                                         Asthma   Yes   Yes      No   \n",
      "37                                Hyperthyroidism   Yes   Yes     Yes   \n",
      "42                                        Malaria   Yes    No      No   \n",
      "59                                         Asthma   Yes   Yes      No   \n",
      "60                                         Asthma   Yes   Yes      No   \n",
      "63                                         Asthma   Yes    No     Yes   \n",
      "65                                     Chickenpox    No   Yes      No   \n",
      "79                                   Tuberculosis   Yes   Yes     Yes   \n",
      "82                                 Hypothyroidism   Yes   Yes     Yes   \n",
      "87                                         Asthma   Yes   Yes      No   \n",
      "88                                         Asthma   Yes   Yes      No   \n",
      "99                             Multiple Sclerosis   Yes    No      No   \n",
      "107                                       Tetanus    No    No     Yes   \n",
      "109                                    Bronchitis   Yes   Yes     Yes   \n",
      "112                                   Ebola Virus   Yes   Yes     Yes   \n",
      "115                          Klinefelter Syndrome    No    No     Yes   \n",
      "118                                  Lyme Disease   Yes    No      No   \n",
      "125                       Coronary Artery Disease    No    No     Yes   \n",
      "128                                Hypothyroidism    No    No     Yes   \n",
      "133                                  Osteoporosis   Yes    No     Yes   \n",
      "137                                 Typhoid Fever    No   Yes      No   \n",
      "141                                    Hemophilia    No    No     Yes   \n",
      "143                                   Hepatitis B    No   Yes     Yes   \n",
      "145                                  Hypertension   Yes    No     Yes   \n",
      "152                           Parkinson's Disease   Yes   Yes      No   \n",
      "158                           Alzheimer's Disease    No   Yes      No   \n",
      "162  Chronic Obstructive Pulmonary Disease (COPD)   Yes    No     Yes   \n",
      "170                                         Mumps    No    No     Yes   \n",
      "176                                        Stroke    No   Yes      No   \n",
      "181                                        Stroke   Yes    No     Yes   \n",
      "182                                        Stroke   Yes    No     Yes   \n",
      "183                                        Stroke   Yes    No     Yes   \n",
      "184                                        Stroke   Yes    No     Yes   \n",
      "185                                        Stroke   Yes    No     Yes   \n",
      "\n",
      "    Difficulty Breathing Blood Pressure Cholesterol Level Outcome Variable  \n",
      "2                    Yes         Normal            Normal         Positive  \n",
      "5                    Yes         Normal            Normal         Positive  \n",
      "11                   Yes         Normal            Normal         Positive  \n",
      "12                   Yes         Normal            Normal         Positive  \n",
      "17                   Yes           High              High         Positive  \n",
      "23                   Yes         Normal            Normal         Positive  \n",
      "30                   Yes         Normal            Normal         Positive  \n",
      "31                   Yes         Normal            Normal         Positive  \n",
      "37                    No           High              High         Positive  \n",
      "42                    No           High              High         Positive  \n",
      "59                   Yes         Normal            Normal         Positive  \n",
      "60                   Yes         Normal            Normal         Positive  \n",
      "63                   Yes         Normal              High         Positive  \n",
      "65                    No         Normal              High         Positive  \n",
      "79                   Yes           High              High         Positive  \n",
      "82                    No           High              High         Positive  \n",
      "87                   Yes         Normal            Normal         Positive  \n",
      "88                   Yes         Normal            Normal         Positive  \n",
      "99                    No           High              High         Positive  \n",
      "107                   No         Normal              High         Positive  \n",
      "109                  Yes           High              High         Positive  \n",
      "112                  Yes         Normal            Normal         Positive  \n",
      "115                   No         Normal            Normal         Positive  \n",
      "118                   No         Normal              High         Positive  \n",
      "125                   No         Normal            Normal         Positive  \n",
      "128                   No           High              High         Positive  \n",
      "133                   No         Normal            Normal         Positive  \n",
      "137                   No         Normal               Low         Positive  \n",
      "141                   No         Normal            Normal         Positive  \n",
      "143                   No         Normal               Low         Positive  \n",
      "145                   No           High            Normal         Positive  \n",
      "152                   No           High            Normal         Positive  \n",
      "158                   No         Normal              High         Positive  \n",
      "162                  Yes           High              High         Positive  \n",
      "170                   No         Normal              High         Positive  \n",
      "176                   No         Normal              High         Positive  \n",
      "181                   No           High              High         Positive  \n",
      "182                   No           High              High         Positive  \n",
      "183                   No           High              High         Positive  \n",
      "184                   No           High              High         Positive  \n",
      "185                   No           High              High         Positive  \n"
     ]
    }
   ],
   "source": [
    "# Check duplicated\n",
    "print(data[data.duplicated()])"
   ]
  },
  {
   "cell_type": "markdown",
   "metadata": {},
   "source": [
    "After viewing the duplicated data it makes no sense to drop the duplicates since it is not actually the same instances for all the features. Some features are actually different. We will keep these in our dataset "
   ]
  },
  {
   "cell_type": "code",
   "execution_count": null,
   "metadata": {},
   "outputs": [],
   "source": [
    "# "
   ]
  }
 ],
 "metadata": {
  "kernelspec": {
   "display_name": "Python 3",
   "language": "python",
   "name": "python3"
  },
  "language_info": {
   "codemirror_mode": {
    "name": "ipython",
    "version": 3
   },
   "file_extension": ".py",
   "mimetype": "text/x-python",
   "name": "python",
   "nbconvert_exporter": "python",
   "pygments_lexer": "ipython3",
   "version": "3.11.4"
  },
  "orig_nbformat": 4
 },
 "nbformat": 4,
 "nbformat_minor": 2
}
